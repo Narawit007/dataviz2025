{
  "nbformat": 4,
  "nbformat_minor": 0,
  "metadata": {
    "colab": {
      "provenance": [],
      "toc_visible": true,
      "authorship_tag": "ABX9TyPVPI9lnLKnbzGeGqwNmg9v",
      "include_colab_link": true
    },
    "kernelspec": {
      "name": "python3",
      "display_name": "Python 3"
    },
    "language_info": {
      "name": "python"
    }
  },
  "cells": [
    {
      "cell_type": "markdown",
      "metadata": {
        "id": "view-in-github",
        "colab_type": "text"
      },
      "source": [
        "<a href=\"https://colab.research.google.com/github/Narawit007/dataviz2025/blob/main/my_first_python_code.ipynb\" target=\"_parent\"><img src=\"https://colab.research.google.com/assets/colab-badge.svg\" alt=\"Open In Colab\"/></a>"
      ]
    },
    {
      "cell_type": "markdown",
      "source": [
        "Here we can write using **Markdown**\n",
        "# intro\n"
      ],
      "metadata": {
        "id": "EFnTOmv8HWXe"
      }
    },
    {
      "cell_type": "markdown",
      "source": [
        "## name\n"
      ],
      "metadata": {
        "id": "rQUnKWRQIal0"
      }
    },
    {
      "cell_type": "code",
      "source": [
        "print (\"Narawit\")"
      ],
      "metadata": {
        "colab": {
          "base_uri": "https://localhost:8080/"
        },
        "id": "4JvfKi6OItF-",
        "outputId": "572456ab-8a28-4faf-f504-329c17781142"
      },
      "execution_count": 1,
      "outputs": [
        {
          "output_type": "stream",
          "name": "stdout",
          "text": [
            "Narawit\n"
          ]
        }
      ]
    },
    {
      "cell_type": "markdown",
      "source": [
        "## surname"
      ],
      "metadata": {
        "id": "ZtAsjePBINEj"
      }
    },
    {
      "cell_type": "code",
      "source": [
        "print ('Sowan')"
      ],
      "metadata": {
        "colab": {
          "base_uri": "https://localhost:8080/"
        },
        "id": "tWfAKZFcIuFu",
        "outputId": "634a879f-1d1c-4d75-eb7e-2eccd57299e6"
      },
      "execution_count": 3,
      "outputs": [
        {
          "output_type": "stream",
          "name": "stdout",
          "text": [
            "Sowan\n"
          ]
        }
      ]
    }
  ]
}